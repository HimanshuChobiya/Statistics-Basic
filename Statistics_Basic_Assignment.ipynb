{
  "nbformat": 4,
  "nbformat_minor": 0,
  "metadata": {
    "colab": {
      "provenance": []
    },
    "kernelspec": {
      "name": "python3",
      "display_name": "Python 3"
    },
    "language_info": {
      "name": "python"
    }
  },
  "cells": [
    {
      "cell_type": "markdown",
      "source": [
        "#Statistics Basic Assignment"
      ],
      "metadata": {
        "id": "o4JLfSyGJ6re"
      }
    },
    {
      "cell_type": "markdown",
      "source": [
        "##Theoritical Questions"
      ],
      "metadata": {
        "id": "y3EsWGgmKAIS"
      }
    },
    {
      "cell_type": "markdown",
      "source": [
        "###Q.1. What is statistics, and why is it important?\n",
        "\n",
        "--> Statistics is the science of collecting, organizing, analyzing, interpreting, and presenting data. It provides methods for making decisions or predictions based on data, helping us understand variability and uncertainty in various contexts.\n",
        "\n",
        "Why It's Important:\n",
        "\n",
        "1.Informed Decision-Making\n",
        "\n",
        "2.Understanding Trends\n",
        "\n",
        "3.Risk Assessment\n",
        "\n",
        "4.Scientific Research\n",
        "\n",
        "5.Quality Control"
      ],
      "metadata": {
        "id": "7WbBgLtUKO-r"
      }
    },
    {
      "cell_type": "markdown",
      "source": [
        "###Q.2. What are the two main types of statistics?\n",
        "\n",
        "--> The two main types of statistics are descriptive statistics and inferential statistics.\n",
        "\n"
      ],
      "metadata": {
        "id": "BX7pDG9hK3kJ"
      }
    },
    {
      "cell_type": "markdown",
      "source": [
        "###Q.3. What are descriptive statistics?\n",
        "\n",
        "--> It summarizes and describes data using measures like mean and standard deviation."
      ],
      "metadata": {
        "id": "HLu4yn1aLSf5"
      }
    },
    {
      "cell_type": "markdown",
      "source": [
        "###Q.4. What is inferential statistics?\n",
        "\n",
        "--> It uses sample data to draw conclusions and make inferences about a larger population."
      ],
      "metadata": {
        "id": "8k4WxSjmLgWj"
      }
    },
    {
      "cell_type": "markdown",
      "source": [
        "###Q.5. What is sampling in statistics?\n",
        "\n",
        "--> Sampling in statistics is the process of selecting a subset (sample) from a larger group or population to draw conclusions about the entire population."
      ],
      "metadata": {
        "id": "Ix3-v-4mLqYJ"
      }
    },
    {
      "cell_type": "markdown",
      "source": [
        "###Q.6. What are the different types of sampling methods?\n",
        "\n",
        "--> Sampling methods can be broadly categorized into probability sampling and non-probability sampling."
      ],
      "metadata": {
        "id": "qSJ8JTNNMAE7"
      }
    },
    {
      "cell_type": "markdown",
      "source": [
        "###Q.7. What is the difference between random and non-random sampling?\n",
        "\n",
        "-->\n",
        "###Random sampling:\n",
        "It ensures that each member of the population has an equal chance of being chosen, leading to a more representative sample and less bias.\n",
        "\n",
        "###Non-random sampling:\n",
        "\n",
        "It involves selecting participants based on factors other than chance, which can introduce bias and may not accurately reflect the entire population."
      ],
      "metadata": {
        "id": "YZ23yppJMRmW"
      }
    },
    {
      "cell_type": "markdown",
      "source": [
        "###Q.8. Define and give examples of qualitative and quantitative data?\n",
        "\n",
        "-->\n",
        "###1.Qualitative Data (Categorical Data):\n",
        "\n",
        "Qualitative data describes qualities or characteristics. It is non-numerical and often grouped by category or label.\n",
        "\n",
        "Examples:\n",
        "\n",
        "Colors: Red, Blue, Green\n",
        "\n",
        "Gender: Male, Female, Non-binary\n",
        "\n",
        "Marital Status: Single, Married, Divorced\n",
        "\n",
        "###2.Quantitative Data (Numerical Data):\n",
        "\n",
        "Quantitative data is numerical and can be measured or counted. It tells you how much, how many, or how often.\n",
        "\n",
        "Examples: Number of students in a class (25), number of cars in a parking lot (12), Height (5.8 ft), Temperature (36.5°C), Weight (70.2 kg)\n",
        "\n"
      ],
      "metadata": {
        "id": "FclXVdEqMupr"
      }
    },
    {
      "cell_type": "markdown",
      "source": [
        "###Q.9. What are the different types of data in statistics?\n",
        "\n",
        "-->There are two types of data in statistics:\n",
        "\n",
        "1.Qualitative(Categorical) Data\n",
        "2.Quantitive(Numerical) Data"
      ],
      "metadata": {
        "id": "qHNbN5tiNnZs"
      }
    },
    {
      "cell_type": "markdown",
      "source": [
        "###Q.10. Explain nominal, ordinal, interval, and ratio levels of measurement.\n",
        "\n",
        "-->\n",
        "\n",
        "1.Nominal Level: Data consists of names, labels, or categories.\n",
        "\n",
        "2.Ordinal Level:Data with a meaningful order or ranking, but no precise difference between values.\n",
        "\n",
        "3.Interval Level: Ordered data with equal intervals between values, but no true zero.\n",
        "\n",
        "4.Ratio Level: Like interval data, but with a true zero point, allowing for meaningful ratios."
      ],
      "metadata": {
        "id": "_2tNQrn9OAeW"
      }
    },
    {
      "cell_type": "markdown",
      "source": [
        "###Q.11. What is the measure of central tendency?\n",
        "\n",
        "--> The central tendency measure is defined as the number used to represent the center or middle of a set of data values. The three commonly used measures of central tendency are the mean, median, and mode."
      ],
      "metadata": {
        "id": "GJLQ6eNnOynh"
      }
    },
    {
      "cell_type": "markdown",
      "source": [
        "###Q.12. Define mean, median, and mode.\n",
        "\n",
        "-->\n",
        "\n",
        "1.Mean:The sum of all values divided by the number of values.\n",
        "\n",
        "Formula:\n",
        "\n",
        "Mean = Sum of Values/ Number of values\n",
        "\n",
        "2.Median: The middle value when the data is ordered. If there's an even number of values, it's the average of the two middle values.\n",
        "\n",
        "Example: For 2, 4, 6 -> Mean = (2 + 4 + 6)/3 = 4\n",
        "\n",
        "Example: For 3, 5, 7 -> Median = 5\n",
        "\n",
        "For 3, 5, 7, 9 -> Median = (5 + 7)/2 = 6\n",
        "\n",
        "3.Mode: The value that occurs most frequently in the dataset.\n",
        "\n",
        "Example: For 2, 2, 3, 4 -> Mode will be 2\n",
        "\n",
        "\n"
      ],
      "metadata": {
        "id": "gKJrNXjZPDNo"
      }
    },
    {
      "cell_type": "markdown",
      "source": [
        "###Q.13. What is the significance of the measure of central tendency?\n",
        "\n",
        "--> Measures of central tendency are essential in statistics as they provide a central reference point to understand the main characteristics of a dataset. These measures help in identifying patterns, making comparisons, and drawing meaningful conclusions from data."
      ],
      "metadata": {
        "id": "JaRxs1KsQE0H"
      }
    },
    {
      "cell_type": "markdown",
      "source": [
        "###Q.14. What is variance, and how is it calculated?\n",
        "\n",
        "--> Variance is a statistical measure that quantifies the spread or dispersion of a set of numbers. In simpler terms, it measures how much the individual values differ from the overall center of the data.\n",
        "\n",
        "how it's calculated:\n",
        "\n",
        "1.Calculate the Mean\n",
        "\n",
        "2.Find the Differences\n",
        "\n",
        "3.Square the Differences\n",
        "\n",
        "4.Calculate the Average of the Squared Differences\n",
        "\n",
        "Formula:\n",
        "\n",
        "Variance = Σ(xᵢ - μ)² / N"
      ],
      "metadata": {
        "id": "1j7LYeP-QU4Q"
      }
    },
    {
      "cell_type": "markdown",
      "source": [
        "###Q.15. What is standard deviation, and why is it important?\n",
        "\n",
        "--> Standard deviation is a statistical measure that indicates the spread or dispersion of a dataset around its mean (average). It quantifies how much individual data points deviate from the average.\n",
        "\n",
        "Understanding standard deviation is important because it provides insights into the variability of data, helps compare different datasets, and is crucial in various fields like finance, science, and quality control."
      ],
      "metadata": {
        "id": "gdV5ug7iRGnA"
      }
    },
    {
      "cell_type": "markdown",
      "source": [
        "###Q.16. Define and explain the term range in statistics.\n",
        "\n",
        "--> In statistics, the range of a dataset is the difference between the highest and lowest values within that dataset. It's a simple measure of how spread out the data is, indicating the total range of values.\n",
        "\n",
        "Expalantion: Main steps of range in statistics are as below:\n",
        "\n",
        "1. Identifying Extremes\n",
        "2. Calculation\n",
        "3. Interpretation\n"
      ],
      "metadata": {
        "id": "afzVf0esRspz"
      }
    },
    {
      "cell_type": "markdown",
      "source": [
        "###Q.17. What is the difference between variance and standard deviation?\n",
        "\n",
        "-->\n",
        "####Variance:\n",
        "\n",
        "1.Variance is the average of the squared\n",
        "differences from the mean.\n",
        "\n",
        "2.Variance provides a measure of the spread in squared units.\n",
        "\n",
        "####Stanadrd Devaition:\n",
        "1.Standard deviation is the square root of the variance.\n",
        "\n",
        "2.Standard deviation provides a measure of spread in the original units of the data."
      ],
      "metadata": {
        "id": "-eCg5AkQSYpV"
      }
    },
    {
      "cell_type": "markdown",
      "source": [
        "###Q.18. What is skewness in a dataset?\n",
        "\n",
        "--> Skewness in a dataset refers to the degree of asymmetry in the distribution of data points around the mean. It indicates whether the data is more concentrated on one side of the mean compared to the other."
      ],
      "metadata": {
        "id": "zupAu_k1TH4-"
      }
    },
    {
      "cell_type": "markdown",
      "source": [
        "###Q.19.  What does it mean if a dataset is positively or negatively skewed?\n",
        "\n",
        "-->A Positively skewed dataset means the data's distribution has a longer tail extending to the right, with more data points on the lower side of the distribution and fewer on the higher side.\n",
        "\n",
        "A Negatively skewed dataset has a longer tail extending to the left, with more data points on the higher side of the distribution and fewer on the lower side. In simple terms, it indicates the direction of the \"tail\" of the distribution."
      ],
      "metadata": {
        "id": "U4hDc3GBTbcd"
      }
    },
    {
      "cell_type": "markdown",
      "source": [
        "###Q.20. Define and explain kurtosis.\n",
        "\n",
        "--> Kurtosis is a descriptive statistic used to help measure how data disperse between a distribution's center and tails, with larger values indicating a data distribution may have “heavy” tails that are thickly concentrated with observations or that are long with extreme observations."
      ],
      "metadata": {
        "id": "JBWNbnkXTaxg"
      }
    },
    {
      "cell_type": "markdown",
      "source": [
        "###Q.21. What is the purpose of covariance?\n",
        "\n",
        "--> Covariance in statistics helps measure the degree to which two variables change together. It quantifies the direction (positive or negative) and strength of the relationship between two variables."
      ],
      "metadata": {
        "id": "LEcYKsw2U7n2"
      }
    },
    {
      "cell_type": "markdown",
      "source": [
        "###Q.22. What does correlation measure in statistics?\n",
        "\n",
        "--> Correlation measures the strength and direction of the relationship between two variables."
      ],
      "metadata": {
        "id": "8rdp9u3UVNXs"
      }
    },
    {
      "cell_type": "markdown",
      "source": [
        "###Q.23. What is the difference between covariance and correlation?\n",
        "\n",
        "-->\n",
        "####Covariance:\n",
        "1.Covariance measures the direction and magnitude of the linear relationship.\n",
        "\n",
        "2.\n",
        "Covariance can take any value from negative to positive infinity, and its value can be affected by the scale of the variables.\n",
        "\n",
        "####Correlation:\n",
        "\n",
        "1.Correlation measures the strength and direction of the linear relationship, but in a standardized way.\n",
        "\n",
        "2.Correlation, on the other hand, is standardized and always falls between -1 and 1."
      ],
      "metadata": {
        "id": "eMBq-uLuVie7"
      }
    },
    {
      "cell_type": "markdown",
      "source": [
        "###Q.24. What are some real-world applications of statistics?\n",
        "\n",
        "--> Statistics finds widespread applications in various real-world scenarios, from business decision-making and scientific research to healthcare analysis and quality control. It's used in fields like finance, education, and government to understand trends, evaluate policies, and make informed decisions."
      ],
      "metadata": {
        "id": "thqpGVaIWNdN"
      }
    },
    {
      "cell_type": "markdown",
      "source": [
        "##Practical Questions"
      ],
      "metadata": {
        "id": "Dad-72aeWajW"
      }
    },
    {
      "cell_type": "markdown",
      "source": [
        "###Q.1. How do you calculate the mean, median, and mode of a dataset?"
      ],
      "metadata": {
        "id": "HjYKm4RCWd_T"
      }
    },
    {
      "cell_type": "code",
      "source": [
        "import statistics\n",
        "\n",
        "def calculate_statistics(data):\n",
        "    # Calculate mean\n",
        "    mean = statistics.mean(data)\n",
        "\n",
        "    # Calculate median\n",
        "    median = statistics.median(data)\n",
        "\n",
        "    # Calculate mode\n",
        "    try:\n",
        "        mode = statistics.mode(data)\n",
        "    except statistics.StatisticsError:\n",
        "        mode = \"No unique mode\"\n",
        "\n",
        "    return mean, median, mode\n",
        "\n",
        "# Example dataset\n",
        "data = [2, 4, 6, 8, 10, 10, 12]\n",
        "\n",
        "mean, median, mode = calculate_statistics(data)\n",
        "\n",
        "print(f\"Mean: {mean}\")\n",
        "print(f\"Median: {median}\")\n",
        "print(f\"Mode: {mode}\")"
      ],
      "metadata": {
        "colab": {
          "base_uri": "https://localhost:8080/"
        },
        "id": "dGnnmXmBPCEX",
        "outputId": "8bc90fce-2269-4986-abbd-1bab52a16899"
      },
      "execution_count": 1,
      "outputs": [
        {
          "output_type": "stream",
          "name": "stdout",
          "text": [
            "Mean: 7.428571428571429\n",
            "Median: 8\n",
            "Mode: 10\n"
          ]
        }
      ]
    },
    {
      "cell_type": "markdown",
      "source": [
        "###Q.2. Write a Python program to compute the variance and standard deviation of a dataset."
      ],
      "metadata": {
        "id": "1B-O1_2BW-vA"
      }
    },
    {
      "cell_type": "code",
      "source": [
        "import math\n",
        "\n",
        "def calculate_variance_and_std(data):\n",
        "    n = len(data)\n",
        "\n",
        "    # Calculate mean\n",
        "    mean = sum(data) / n\n",
        "\n",
        "    # Calculate variance\n",
        "    variance = sum((x - mean) ** 2 for x in data) / n\n",
        "\n",
        "    # Calculate standard deviation\n",
        "    std_dev = math.sqrt(variance)\n",
        "\n",
        "    return variance, std_dev\n",
        "\n",
        "# Example dataset\n",
        "data = [2, 4, 6, 8, 10, 12]\n",
        "\n",
        "variance, std_dev = calculate_variance_and_std(data)\n",
        "\n",
        "print(f\"Variance: {variance}\")\n",
        "print(f\"Standard Deviation: {std_dev}\")\n"
      ],
      "metadata": {
        "colab": {
          "base_uri": "https://localhost:8080/"
        },
        "id": "t7c3hmcKW3pZ",
        "outputId": "7a14ca0b-cb8b-4b4f-d111-578d96c216b0"
      },
      "execution_count": 2,
      "outputs": [
        {
          "output_type": "stream",
          "name": "stdout",
          "text": [
            "Variance: 11.666666666666666\n",
            "Standard Deviation: 3.415650255319866\n"
          ]
        }
      ]
    },
    {
      "cell_type": "markdown",
      "source": [
        "###Q.3. Create a dataset and classify it into nominal, ordinal, interval, and ratio types.\n"
      ],
      "metadata": {
        "id": "ikMbQGJqXPMW"
      }
    },
    {
      "cell_type": "code",
      "source": [
        "# Define the dataset with various types of data\n",
        "dataset = {\n",
        "    \"names\": [\"Sushant\", \"Tanishk\", \"Himanshu\", \"Divyansh\"],\n",
        "    \"education_levels\": [\"High School\", \"Bachelor\", \"Master\", \"PhD\"],\n",
        "    \"temperatures_celsius\": [22, 25, 19, 30],\n",
        "    \"weights_kg\": [60, 75, 80, 68]\n",
        "}\n",
        "\n",
        "def classify_data(dataset):\n",
        "    classifications = {}\n",
        "\n",
        "    # Nominal:\n",
        "    classifications[\"Nominal\"] = dataset[\"names\"]\n",
        "\n",
        "    # Ordinal:\n",
        "    classifications[\"Ordinal\"] = dataset[\"education_levels\"]\n",
        "\n",
        "    # Interval:\n",
        "    classifications[\"Interval\"] = dataset[\"temperatures_celsius\"]\n",
        "\n",
        "    # Ratio:\n",
        "    classifications[\"Ratio\"] = dataset[\"weights_kg\"]\n",
        "\n",
        "    return classifications\n",
        "\n",
        "classified_data = classify_data(dataset)\n",
        "\n",
        "for data_type, values in classified_data.items():\n",
        "    print(f\"{data_type}: {values}\")\n"
      ],
      "metadata": {
        "colab": {
          "base_uri": "https://localhost:8080/"
        },
        "id": "kfJsm7cUXOEw",
        "outputId": "309999f9-297a-41b1-c120-8cee73b0d6ff"
      },
      "execution_count": 3,
      "outputs": [
        {
          "output_type": "stream",
          "name": "stdout",
          "text": [
            "Nominal: ['Sushant', 'Tanishk', 'Himanshu', 'Divyansh']\n",
            "Ordinal: ['High School', 'Bachelor', 'Master', 'PhD']\n",
            "Interval: [22, 25, 19, 30]\n",
            "Ratio: [60, 75, 80, 68]\n"
          ]
        }
      ]
    },
    {
      "cell_type": "markdown",
      "source": [
        "###Q.4. Implement sampling techniques like random sampling and stratified sampling."
      ],
      "metadata": {
        "id": "uw2hBt8oYBnc"
      }
    },
    {
      "cell_type": "code",
      "source": [
        "import random\n",
        "import pandas as pd\n",
        "\n",
        "data = {\n",
        "    'Name': [f\"Student{i}\" for i in range(1, 21)],\n",
        "    'Age_Group': ['Teen' if i < 10 else 'Adult' for i in range(20)],\n",
        "    'Score': [random.randint(50, 100) for _ in range(20)]\n",
        "}\n",
        "\n",
        "df = pd.DataFrame(data)\n",
        "\n",
        "print(\"=== Original Dataset ===\")\n",
        "print(df)\n",
        "\n",
        "# RANDOM SAMPLING\n",
        "def random_sampling(df, sample_size):\n",
        "    return df.sample(n=sample_size, random_state=42)\n",
        "\n",
        "# STRATIFIED SAMPLING\n",
        "def stratified_sampling(df, stratify_col, samples_per_group):\n",
        "    stratified_sample = df.groupby(stratify_col, group_keys=False).apply(\n",
        "        lambda x: x.sample(n=samples_per_group, random_state=42)\n",
        "    )\n",
        "    return stratified_sample\n",
        "\n",
        "# Apply random sampling\n",
        "random_sample = random_sampling(df, 5)\n",
        "print(\"\\nRandom Sample (5 students)\")\n",
        "print(random_sample)\n",
        "\n",
        "# Apply stratified sampling\n",
        "stratified_sample = stratified_sampling(df, 'Age_Group', 3)\n",
        "print(\"\\nStratified Sample (3 from each group)\")\n",
        "print(stratified_sample)\n"
      ],
      "metadata": {
        "colab": {
          "base_uri": "https://localhost:8080/"
        },
        "id": "es_AilyjX8-d",
        "outputId": "c404f71c-3438-4bf5-b719-1cc6fbf65579"
      },
      "execution_count": 32,
      "outputs": [
        {
          "output_type": "stream",
          "name": "stdout",
          "text": [
            "=== Original Dataset ===\n",
            "         Name Age_Group  Score\n",
            "0    Student1      Teen     76\n",
            "1    Student2      Teen     95\n",
            "2    Student3      Teen     89\n",
            "3    Student4      Teen     62\n",
            "4    Student5      Teen     86\n",
            "5    Student6      Teen     58\n",
            "6    Student7      Teen     55\n",
            "7    Student8      Teen    100\n",
            "8    Student9      Teen     97\n",
            "9   Student10      Teen     76\n",
            "10  Student11     Adult     74\n",
            "11  Student12     Adult     63\n",
            "12  Student13     Adult     87\n",
            "13  Student14     Adult     52\n",
            "14  Student15     Adult     93\n",
            "15  Student16     Adult     66\n",
            "16  Student17     Adult     98\n",
            "17  Student18     Adult     77\n",
            "18  Student19     Adult     64\n",
            "19  Student20     Adult     65\n",
            "\n",
            "Random Sample (5 students)\n",
            "         Name Age_Group  Score\n",
            "0    Student1      Teen     76\n",
            "17  Student18     Adult     77\n",
            "15  Student16     Adult     66\n",
            "1    Student2      Teen     95\n",
            "8    Student9      Teen     97\n",
            "\n",
            "Stratified Sample (3 from each group)\n",
            "         Name Age_Group  Score\n",
            "18  Student19     Adult     64\n",
            "11  Student12     Adult     63\n",
            "15  Student16     Adult     66\n",
            "8    Student9      Teen     97\n",
            "1    Student2      Teen     95\n",
            "5    Student6      Teen     58\n"
          ]
        },
        {
          "output_type": "stream",
          "name": "stderr",
          "text": [
            "<ipython-input-32-436df3fffb41>:21: DeprecationWarning: DataFrameGroupBy.apply operated on the grouping columns. This behavior is deprecated, and in a future version of pandas the grouping columns will be excluded from the operation. Either pass `include_groups=False` to exclude the groupings or explicitly select the grouping columns after groupby to silence this warning.\n",
            "  stratified_sample = df.groupby(stratify_col, group_keys=False).apply(\n"
          ]
        }
      ]
    },
    {
      "cell_type": "markdown",
      "source": [
        "###Q.5. Write a Python function to calculate the range of a dataset."
      ],
      "metadata": {
        "id": "fiZj4VT1Yfbs"
      }
    },
    {
      "cell_type": "code",
      "source": [
        "def calculate_range(data):\n",
        "    if not data:\n",
        "        return \"Dataset is empty\"\n",
        "    return max(data) - min(data)\n",
        "\n",
        "# Example usage\n",
        "dataset = [12, 4, 8, 15, 7, 10]\n",
        "range_value = calculate_range(dataset)\n",
        "\n",
        "print(f\"Range of the dataset: {range_value}\")\n"
      ],
      "metadata": {
        "colab": {
          "base_uri": "https://localhost:8080/"
        },
        "id": "c1f6IWgcYcjj",
        "outputId": "b5beee1f-87db-4218-a8f9-9be9ba591a1a"
      },
      "execution_count": 5,
      "outputs": [
        {
          "output_type": "stream",
          "name": "stdout",
          "text": [
            "Range of the dataset: 11\n"
          ]
        }
      ]
    },
    {
      "cell_type": "markdown",
      "source": [
        "###Q.6. Create a dataset and plot its histogram to visualize skewness."
      ],
      "metadata": {
        "id": "htXzsH6FYrNJ"
      }
    },
    {
      "cell_type": "code",
      "source": [
        "import matplotlib.pyplot as plt\n",
        "import seaborn as sns\n",
        "import numpy as np\n",
        "from scipy.stats import skew\n",
        "\n",
        "data = np.random.exponential(scale=2.0, size=1000)\n",
        "\n",
        "skewness = skew(data)\n",
        "\n",
        "plt.figure(figsize=(8, 5))\n",
        "sns.histplot(data, bins=30, kde=True, color='skyblue', edgecolor='black')\n",
        "plt.title(f'Histogram of Dataset (Skewness = {skewness:.2f})')\n",
        "plt.xlabel('Value')\n",
        "plt.ylabel('Frequency')\n",
        "plt.grid(True)\n",
        "plt.show()\n"
      ],
      "metadata": {
        "colab": {
          "base_uri": "https://localhost:8080/",
          "height": 453
        },
        "id": "ujdbfKLNYo-1",
        "outputId": "daa370d8-e8e9-47bc-ed83-6584d3129754"
      },
      "execution_count": 6,
      "outputs": [
        {
          "output_type": "display_data",
          "data": {
            "text/plain": [
              "<Figure size 800x500 with 1 Axes>"
            ],
            "image/png": "[encoded data removed]"
          },
          "metadata": {}
        }
      ]
    },
    {
      "cell_type": "markdown",
      "source": [
        "###Q.7. Calculate skewness and kurtosis of a dataset using Python libraries."
      ],
      "metadata": {
        "id": "OGhT4R7PY7gw"
      }
    },
    {
      "cell_type": "code",
      "source": [
        "import numpy as np\n",
        "from scipy.stats import skew, kurtosis\n",
        "\n",
        "data = [12, 15, 14, 10, 18, 20, 22, 21, 30, 50]\n",
        "\n",
        "# Calculate skewness\n",
        "data_skewness = skew(data)\n",
        "\n",
        "# Calculate kurtosis\n",
        "data_kurtosis = kurtosis(data)\n",
        "\n",
        "print(f\"Skewness: {data_skewness:.2f}\")\n",
        "print(f\"Kurtosis: {data_kurtosis:.2f}\")\n"
      ],
      "metadata": {
        "colab": {
          "base_uri": "https://localhost:8080/"
        },
        "id": "EKqv-_qIY5Ny",
        "outputId": "197385d2-bbb2-4733-80f8-08c296bd56f3"
      },
      "execution_count": 7,
      "outputs": [
        {
          "output_type": "stream",
          "name": "stdout",
          "text": [
            "Skewness: 1.61\n",
            "Kurtosis: 1.85\n"
          ]
        }
      ]
    },
    {
      "cell_type": "markdown",
      "source": [
        "###Q.8. Generate a dataset and demonstrate positive and negative skewness."
      ],
      "metadata": {
        "id": "cYa8qv86ZOZW"
      }
    },
    {
      "cell_type": "code",
      "source": [
        "import numpy as np\n",
        "import matplotlib.pyplot as plt\n",
        "import seaborn as sns\n",
        "from scipy.stats import skew\n",
        "\n",
        "positive_skew = np.random.exponential(scale=2.0, size=1000)\n",
        "\n",
        "negative_skew = -np.random.exponential(scale=2.0, size=1000) + 10\n",
        "\n",
        "pos_skew_val = skew(positive_skew)\n",
        "neg_skew_val = skew(negative_skew)\n",
        "\n",
        "fig, axes = plt.subplots(1, 2, figsize=(14, 5))\n",
        "\n",
        "sns.histplot(positive_skew, bins=30, kde=True, ax=axes[0], color='skyblue')\n",
        "axes[0].set_title(f'Positive Skewness (Right)\\nSkew = {pos_skew_val:.2f}')\n",
        "axes[0].set_xlabel('Value')\n",
        "axes[0].set_ylabel('Frequency')\n",
        "\n",
        "sns.histplot(negative_skew, bins=30, kde=True, ax=axes[1], color='salmon')\n",
        "axes[1].set_title(f'Negative Skewness (Left)\\nSkew = {neg_skew_val:.2f}')\n",
        "axes[1].set_xlabel('Value')\n",
        "axes[1].set_ylabel('Frequency')\n",
        "\n",
        "plt.tight_layout()\n",
        "plt.show()\n"
      ],
      "metadata": {
        "colab": {
          "base_uri": "https://localhost:8080/",
          "height": 244
        },
        "id": "2uo5iRXiZNPP",
        "outputId": "5d543567-cb96-46b7-8e86-bc3f23e9371a"
      },
      "execution_count": 8,
      "outputs": [
        {
          "output_type": "display_data",
          "data": {
            "text/plain": [
              "<Figure size 1400x500 with 2 Axes>"
            ],
            "image/png": "[encoded data removed]"
          },
          "metadata": {}
        }
      ]
    },
    {
      "cell_type": "markdown",
      "source": [
        "###Q.9. Write a Python script to calculate covariance between two datasets."
      ],
      "metadata": {
        "id": "Yh1wC3XhZjBR"
      }
    },
    {
      "cell_type": "code",
      "source": [
        "import numpy as np\n",
        "\n",
        "def calculate_covariance(x, y):\n",
        "    if len(x) != len(y):\n",
        "        raise ValueError(\"Datasets must be of the same length.\")\n",
        "\n",
        "    n = len(x)\n",
        "    mean_x = np.mean(x)\n",
        "    mean_y = np.mean(y)\n",
        "\n",
        "    covariance = sum((x[i] - mean_x) * (y[i] - mean_y) for i in range(n)) / n\n",
        "    return covariance\n",
        "\n",
        "# Example datasets\n",
        "x = [2, 4, 6, 8, 10]\n",
        "y = [1, 3, 5, 7, 9]\n",
        "\n",
        "cov = calculate_covariance(x, y)\n",
        "print(f\"Covariance between x and y: {cov:.2f}\")\n"
      ],
      "metadata": {
        "colab": {
          "base_uri": "https://localhost:8080/"
        },
        "id": "TkZhxxgJZiJw",
        "outputId": "74f47794-4528-4e6e-b4d4-7af3e76d847a"
      },
      "execution_count": 9,
      "outputs": [
        {
          "output_type": "stream",
          "name": "stdout",
          "text": [
            "Covariance between x and y: 8.00\n"
          ]
        }
      ]
    },
    {
      "cell_type": "markdown",
      "source": [
        "###Q.10.  Write a Python script to calculate the correlation coefficient between two datasets."
      ],
      "metadata": {
        "id": "YCGnoihiZydO"
      }
    },
    {
      "cell_type": "code",
      "source": [
        "import numpy as np\n",
        "\n",
        "def calculate_correlation(x, y):\n",
        "    if len(x) != len(y):\n",
        "        raise ValueError(\"Datasets must be of the same length.\")\n",
        "\n",
        "    n = len(x)\n",
        "    mean_x = np.mean(x)\n",
        "    mean_y = np.mean(y)\n",
        "\n",
        "    numerator = sum((x[i] - mean_x) * (y[i] - mean_y) for i in range(n))\n",
        "    denominator = np.sqrt(sum((x[i] - mean_x) ** 2 for i in range(n)) *\n",
        "                          sum((y[i] - mean_y) ** 2 for i in range(n)))\n",
        "\n",
        "    if denominator == 0:\n",
        "        return 0\n",
        "\n",
        "    correlation = numerator / denominator\n",
        "    return correlation\n",
        "\n",
        "# Example datasets\n",
        "x = [1, 2, 3, 4, 5]\n",
        "y = [2, 4, 5, 4, 5]\n",
        "\n",
        "corr = calculate_correlation(x, y)\n",
        "print(f\"Pearson Correlation Coefficient: {corr:.2f}\")\n"
      ],
      "metadata": {
        "colab": {
          "base_uri": "https://localhost:8080/"
        },
        "id": "lJ01AuSLZwpC",
        "outputId": "64888ded-d9b5-4b8c-c881-190678473dd9"
      },
      "execution_count": 10,
      "outputs": [
        {
          "output_type": "stream",
          "name": "stdout",
          "text": [
            "Pearson Correlation Coefficient: 0.77\n"
          ]
        }
      ]
    },
    {
      "cell_type": "markdown",
      "source": [
        "###Q.11. Create a scatter plot to visualize the relationship between two variables."
      ],
      "metadata": {
        "id": "b7jR-6GsaHnD"
      }
    },
    {
      "cell_type": "code",
      "source": [
        "import matplotlib.pyplot as plt\n",
        "\n",
        "x = [1, 2, 3, 4, 5, 6, 7]\n",
        "y = [2, 4, 5, 4, 6, 7, 8]\n",
        "\n",
        "plt.figure(figsize=(6, 4))\n",
        "plt.scatter(x, y, color='blue', edgecolors='black')\n",
        "plt.title(\"Scatter Plot: Relationship Between X and Y\")\n",
        "plt.xlabel(\"X Values\")\n",
        "plt.ylabel(\"Y Values\")\n",
        "plt.grid(True)\n",
        "plt.tight_layout()\n",
        "plt.show()\n"
      ],
      "metadata": {
        "colab": {
          "base_uri": "https://localhost:8080/",
          "height": 407
        },
        "id": "LAYp95M3aGlq",
        "outputId": "5484898e-7c9f-46fa-b8bf-cc338ec4d3ec"
      },
      "execution_count": 11,
      "outputs": [
        {
          "output_type": "display_data",
          "data": {
            "text/plain": [
              "<Figure size 600x400 with 1 Axes>"
            ],
            "image/png": "[encoded data removed]"
          },
          "metadata": {}
        }
      ]
    },
    {
      "cell_type": "markdown",
      "source": [
        "###Q.12. Implement and compare simple random sampling and systematic sampling."
      ],
      "metadata": {
        "id": "w2zjy7xBaV2N"
      }
    },
    {
      "cell_type": "code",
      "source": [
        "import random\n",
        "import pandas as pd\n",
        "\n",
        "data = {'ID': range(1, 31), 'Value': [random.randint(50, 100) for _ in range(30)]}\n",
        "df = pd.DataFrame(data)\n",
        "\n",
        "# Simple Random Sampling\n",
        "def simple_random_sampling(df, sample_size):\n",
        "    return df.sample(n=sample_size, random_state=42)\n",
        "\n",
        "# Systematic Sampling\n",
        "def systematic_sampling(df, sample_size):\n",
        "    step = len(df) // sample_size\n",
        "    start = random.randint(0, step - 1)\n",
        "    indices = [start + i * step for i in range(sample_size)]\n",
        "    return df.iloc[indices]\n",
        "\n",
        "sample_size = 6\n",
        "\n",
        "random_sample = simple_random_sampling(df, sample_size)\n",
        "systematic_sample = systematic_sampling(df, sample_size)\n",
        "\n",
        "print(\"Original Dataset\")\n",
        "print(df.head(10))\n",
        "\n",
        "print(\"\\nSimple Random Sampling\")\n",
        "print(random_sample)\n",
        "\n",
        "print(\"\\nSystematic Sampling\")\n",
        "print(systematic_sample)\n"
      ],
      "metadata": {
        "colab": {
          "base_uri": "https://localhost:8080/"
        },
        "id": "LjipUkIbaUz9",
        "outputId": "a3c7d795-1a17-41cd-f957-b87fcda5cdf2"
      },
      "execution_count": 14,
      "outputs": [
        {
          "output_type": "stream",
          "name": "stdout",
          "text": [
            "Original Dataset\n",
            "   ID  Value\n",
            "0   1     80\n",
            "1   2     51\n",
            "2   3     78\n",
            "3   4     61\n",
            "4   5     91\n",
            "5   6     64\n",
            "6   7     50\n",
            "7   8     77\n",
            "8   9     75\n",
            "9  10     93\n",
            "\n",
            "Simple Random Sampling\n",
            "    ID  Value\n",
            "27  28     98\n",
            "15  16     99\n",
            "23  24     85\n",
            "17  18     80\n",
            "8    9     75\n",
            "9   10     93\n",
            "\n",
            "Systematic Sampling\n",
            "    ID  Value\n",
            "3    4     61\n",
            "8    9     75\n",
            "13  14     87\n",
            "18  19     56\n",
            "23  24     85\n",
            "28  29     96\n"
          ]
        }
      ]
    },
    {
      "cell_type": "markdown",
      "source": [
        "###Q.13. Calculate the mean, median, and mode of grouped data."
      ],
      "metadata": {
        "id": "CADCkrd2a4FE"
      }
    },
    {
      "cell_type": "code",
      "source": [
        "import pandas as pd\n",
        "from statistics import mode\n",
        "\n",
        "class_intervals = ['0-10', '10-20', '20-30', '30-40', '40-50']\n",
        "frequencies = [5, 8, 15, 16, 6]\n",
        "\n",
        "# Step 1: Calculate class midpoints\n",
        "def midpoint(interval):\n",
        "    lower, upper = map(int, interval.split('-'))\n",
        "    return (lower + upper) / 2\n",
        "\n",
        "midpoints = [midpoint(ci) for ci in class_intervals]\n",
        "\n",
        "# Step 2: Create DataFrame\n",
        "df = pd.DataFrame({\n",
        "    'Class Interval': class_intervals,\n",
        "    'Midpoint': midpoints,\n",
        "    'Frequency': frequencies\n",
        "})\n",
        "\n",
        "# Step 3: Mean of grouped data\n",
        "df['f*x'] = df['Midpoint'] * df['Frequency']\n",
        "mean = df['f*x'].sum() / df['Frequency'].sum()\n",
        "\n",
        "# Step 4: Median of grouped data\n",
        "df['Cumulative Frequency'] = df['Frequency'].cumsum()\n",
        "N = df['Frequency'].sum()\n",
        "median_class_index = df[df['Cumulative Frequency'] >= N/2].index[0]\n",
        "L = int(class_intervals[median_class_index].split('-')[0])\n",
        "f = df.loc[median_class_index, 'Frequency']\n",
        "cf_prev = df.loc[median_class_index - 1, 'Cumulative Frequency'] if median_class_index > 0 else 0\n",
        "h = int(class_intervals[median_class_index].split('-')[1]) - L\n",
        "median = L + ((N/2 - cf_prev) / f) * h\n",
        "\n",
        "# Step 5: Mode of grouped data\n",
        "modal_class_index = df['Frequency'].idxmax()\n",
        "L_modal = int(class_intervals[modal_class_index].split('-')[0])\n",
        "f1 = df.loc[modal_class_index, 'Frequency']\n",
        "f0 = df.loc[modal_class_index - 1, 'Frequency'] if modal_class_index > 0 else 0\n",
        "f2 = df.loc[modal_class_index + 1, 'Frequency'] if modal_class_index < len(df) - 1 else 0\n",
        "h_modal = int(class_intervals[modal_class_index].split('-')[1]) - L_modal\n",
        "mode_value = L_modal + ((f1 - f0) / ((f1 - f0) + (f1 - f2))) * h_modal if (f1 - f0 + f1 - f2) != 0 else L_modal\n",
        "\n",
        "print(df)\n",
        "print(f\"\\nMean: {mean:.2f}\")\n",
        "print(f\"Median: {median:.2f}\")\n",
        "print(f\"Mode: {mode_value:.2f}\")\n"
      ],
      "metadata": {
        "colab": {
          "base_uri": "https://localhost:8080/"
        },
        "id": "jKYPhOUAbKrh",
        "outputId": "393582d0-28e6-43de-aac6-2a44dddb7a8a"
      },
      "execution_count": 16,
      "outputs": [
        {
          "output_type": "stream",
          "name": "stdout",
          "text": [
            "  Class Interval  Midpoint  Frequency    f*x  Cumulative Frequency\n",
            "0           0-10       5.0          5   25.0                     5\n",
            "1          10-20      15.0          8  120.0                    13\n",
            "2          20-30      25.0         15  375.0                    28\n",
            "3          30-40      35.0         16  560.0                    44\n",
            "4          40-50      45.0          6  270.0                    50\n",
            "\n",
            "Mean: 27.00\n",
            "Median: 28.00\n",
            "Mode: 30.91\n"
          ]
        }
      ]
    },
    {
      "cell_type": "markdown",
      "source": [
        "###Q.14. Simulate data using Python and calculate its central tendency and dispersion."
      ],
      "metadata": {
        "id": "fktv6j4VbX8q"
      }
    },
    {
      "cell_type": "code",
      "source": [
        "import numpy as np\n",
        "import pandas as pd\n",
        "from statistics import mode, median\n",
        "\n",
        "np.random.seed(42)\n",
        "data = np.random.normal(loc=50, scale=10, size=1000)\n",
        "\n",
        "# Central Tendency Calculations\n",
        "mean = np.mean(data)\n",
        "median_value = median(data)\n",
        "mode_value = mode(data) if len(set(data)) < 100 else \"N/A\"\n",
        "\n",
        "# Dispersion Calculations\n",
        "variance = np.var(data)\n",
        "std_deviation = np.std(data)\n",
        "data_range = np.max(data) - np.min(data)\n",
        "\n",
        "print(f\"Central Tendency:\")\n",
        "print(f\"Mean: {mean:.2f}\")\n",
        "print(f\"Median: {median_value:.2f}\")\n",
        "print(f\"Mode: {mode_value}\")\n",
        "\n",
        "print(f\"\\nDispersion:\")\n",
        "print(f\"Variance: {variance:.2f}\")\n",
        "print(f\"Standard Deviation: {std_deviation:.2f}\")\n",
        "print(f\"Range: {data_range:.2f}\")\n"
      ],
      "metadata": {
        "colab": {
          "base_uri": "https://localhost:8080/"
        },
        "id": "jM6XB4IPbPcb",
        "outputId": "df3c2048-c176-4ad1-a9de-5fa327442d44"
      },
      "execution_count": 17,
      "outputs": [
        {
          "output_type": "stream",
          "name": "stdout",
          "text": [
            "Central Tendency:\n",
            "Mean: 50.19\n",
            "Median: 50.25\n",
            "Mode: N/A\n",
            "\n",
            "Dispersion:\n",
            "Variance: 95.79\n",
            "Standard Deviation: 9.79\n",
            "Range: 70.94\n"
          ]
        }
      ]
    },
    {
      "cell_type": "markdown",
      "source": [
        "###Q.15. Use NumPy or pandas to summarize a dataset’s descriptive statistics."
      ],
      "metadata": {
        "id": "40E9jq9nbzY0"
      }
    },
    {
      "cell_type": "code",
      "source": [
        "import pandas as pd\n",
        "import numpy as np\n",
        "\n",
        "data = {\n",
        "    'A': [1, 2, 3, 4, 5],\n",
        "    'B': [5, 6, 7, 8, 9],\n",
        "    'C': [10, 20, 30, 40, 50]\n",
        "}\n",
        "df = pd.DataFrame(data)\n",
        "\n",
        "summary_pandas = df.describe()\n",
        "print(\"Descriptive Statistics using Pandas:\")\n",
        "print(summary_pandas)\n",
        "\n",
        "data_np = np.array([[1, 5, 10],\n",
        "                    [2, 6, 20],\n",
        "                    [3, 7, 30],\n",
        "                    [4, 8, 40],\n",
        "                    [5, 9, 50]])\n",
        "\n",
        "mean = np.mean(data_np, axis=0)\n",
        "median = np.median(data_np, axis=0)\n",
        "std_dev = np.std(data_np, axis=0)\n",
        "min_val = np.min(data_np, axis=0)\n",
        "max_val = np.max(data_np, axis=0)\n",
        "\n",
        "print(\"\\nDescriptive Statistics using NumPy:\")\n",
        "print(\"Mean:\", mean)\n",
        "print(\"Median:\", median)\n",
        "print(\"Standard Deviation:\", std_dev)\n",
        "print(\"Minimum:\", min_val)\n",
        "print(\"Maximum:\", max_val)\n"
      ],
      "metadata": {
        "colab": {
          "base_uri": "https://localhost:8080/"
        },
        "id": "tTCzY6LocQRW",
        "outputId": "58cd0163-25de-47cb-828b-ef2e4315264e"
      },
      "execution_count": 21,
      "outputs": [
        {
          "output_type": "stream",
          "name": "stdout",
          "text": [
            "Descriptive Statistics using Pandas:\n",
            "              A         B          C\n",
            "count  5.000000  5.000000   5.000000\n",
            "mean   3.000000  7.000000  30.000000\n",
            "std    1.581139  1.581139  15.811388\n",
            "min    1.000000  5.000000  10.000000\n",
            "25%    2.000000  6.000000  20.000000\n",
            "50%    3.000000  7.000000  30.000000\n",
            "75%    4.000000  8.000000  40.000000\n",
            "max    5.000000  9.000000  50.000000\n",
            "\n",
            "Descriptive Statistics using NumPy:\n",
            "Mean: [ 3.  7. 30.]\n",
            "Median: [ 3.  7. 30.]\n",
            "Standard Deviation: [ 1.41421356  1.41421356 14.14213562]\n",
            "Minimum: [ 1  5 10]\n",
            "Maximum: [ 5  9 50]\n"
          ]
        }
      ]
    },
    {
      "cell_type": "markdown",
      "source": [
        "###Q.16. Plot a boxplot to understand the spread and identify outliers."
      ],
      "metadata": {
        "id": "qhzJCr0-c1CJ"
      }
    },
    {
      "cell_type": "code",
      "source": [
        "import pandas as pd\n",
        "import matplotlib.pyplot as plt\n",
        "\n",
        "data = {\n",
        "    'Category': ['A', 'A', 'A', 'B', 'B', 'B', 'C', 'C', 'C'],\n",
        "    'Values': [10, 12, 14, 20, 22, 25, 30, 32, 35]\n",
        "}\n",
        "df = pd.DataFrame(data)\n",
        "\n",
        "plt.figure(figsize=(8, 6))\n",
        "df.boxplot(column='Values', by='Category')\n",
        "plt.title('Boxplot of Values by Category')\n",
        "plt.suptitle('')\n",
        "plt.xlabel('Category')\n",
        "plt.ylabel('Values')\n",
        "plt.show()\n"
      ],
      "metadata": {
        "colab": {
          "base_uri": "https://localhost:8080/",
          "height": 479
        },
        "id": "ndUsLxPbctI_",
        "outputId": "4cc30f0b-5df2-4e97-ffe6-653ef9c8d2da"
      },
      "execution_count": 22,
      "outputs": [
        {
          "output_type": "display_data",
          "data": {
            "text/plain": [
              "<Figure size 800x600 with 0 Axes>"
            ]
          },
          "metadata": {}
        },
        {
          "output_type": "display_data",
          "data": {
            "text/plain": [
              "<Figure size 640x480 with 1 Axes>"
            ],
            "image/png": "[encoded data removed]"
          },
          "metadata": {}
        }
      ]
    },
    {
      "cell_type": "markdown",
      "source": [
        "###Q.17. Calculate the interquartile range (IQR) of a dataset."
      ],
      "metadata": {
        "id": "R4bi2tHTdVIG"
      }
    },
    {
      "cell_type": "code",
      "source": [
        "import pandas as pd\n",
        "import numpy as np\n",
        "\n",
        "data = {\n",
        "    'Values': [10, 12, 14, 20, 22, 25, 30, 32, 35]\n",
        "}\n",
        "df = pd.DataFrame(data)\n",
        "\n",
        "Q1_pandas = df['Values'].quantile(0.25)\n",
        "Q3_pandas = df['Values'].quantile(0.75)\n",
        "IQR_pandas = Q3_pandas - Q1_pandas\n",
        "\n",
        "print(\"Using Pandas:\")\n",
        "print(\"Q1 (25th percentile):\", Q1_pandas)\n",
        "print(\"Q3 (75th percentile):\", Q3_pandas)\n",
        "print(\"Interquartile Range (IQR):\", IQR_pandas)\n",
        "\n",
        "data_np = np.array(data['Values'])\n",
        "Q1_numpy = np.percentile(data_np, 25)\n",
        "Q3_numpy = np.percentile(data_np, 75)\n",
        "IQR_numpy = Q3_numpy - Q1_numpy\n",
        "\n",
        "print(\"\\nUsing NumPy:\")\n",
        "print(\"Q1 (25th percentile):\", Q1_numpy)\n",
        "print(\"Q3 (75th percentile):\", Q3_numpy)\n",
        "print(\"Interquartile Range (IQR):\", IQR_numpy)\n"
      ],
      "metadata": {
        "colab": {
          "base_uri": "https://localhost:8080/"
        },
        "id": "1jf6CM5NdUS_",
        "outputId": "52a549df-9f48-4e85-c6da-67c32975639c"
      },
      "execution_count": 23,
      "outputs": [
        {
          "output_type": "stream",
          "name": "stdout",
          "text": [
            "Using Pandas:\n",
            "Q1 (25th percentile): 14.0\n",
            "Q3 (75th percentile): 30.0\n",
            "Interquartile Range (IQR): 16.0\n",
            "\n",
            "Using NumPy:\n",
            "Q1 (25th percentile): 14.0\n",
            "Q3 (75th percentile): 30.0\n",
            "Interquartile Range (IQR): 16.0\n"
          ]
        }
      ]
    },
    {
      "cell_type": "markdown",
      "source": [
        "###Q.18. Implement Z-score normalization and explain its significance.\n",
        "\n",
        "--> Significance of Z-score Normalisation:\n",
        "\n",
        "Z-score normalization, also known as standardization, is significant because it transforms data to a standard normal distribution with a mean of 0 and a standard deviation of 1, making data easier to compare and analyze.\n"
      ],
      "metadata": {
        "id": "kMnEJFBAd_Tr"
      }
    },
    {
      "cell_type": "code",
      "source": [
        "import numpy as np\n",
        "import pandas as pd\n",
        "import matplotlib.pyplot as plt\n",
        "\n",
        "np.random.seed(42)\n",
        "data = np.random.normal(loc=50, scale=10, size=1000)\n",
        "\n",
        "df = pd.DataFrame(data, columns=['Value'])\n",
        "\n",
        "mean = df['Value'].mean()\n",
        "std_dev = df['Value'].std()\n",
        "df['Z-Score'] = (df['Value'] - mean) / std_dev\n",
        "\n",
        "print(df.head())\n",
        "\n",
        "plt.figure(figsize=(12, 6))\n",
        "\n",
        "plt.subplot(1, 2, 1)\n",
        "plt.hist(df['Value'], bins=30, color='skyblue', edgecolor='black')\n",
        "plt.title('Original Data Distribution')\n",
        "plt.xlabel('Value')\n",
        "plt.ylabel('Frequency')\n",
        "\n",
        "plt.subplot(1, 2, 2)\n",
        "plt.hist(df['Z-Score'], bins=30, color='salmon', edgecolor='black')\n",
        "plt.title('Z-score Normalized Data Distribution')\n",
        "plt.xlabel('Z-Score')\n",
        "plt.ylabel('Frequency')\n",
        "\n",
        "plt.tight_layout()\n",
        "plt.show()\n",
        "\n",
        "print(f\"\\nOriginal Mean: {mean:.2f}, Original Std Dev: {std_dev:.2f}\")\n",
        "print(f\"Z-score Normalized Mean: {df['Z-Score'].mean():.2f}, Z-score Normalized Std Dev: {df['Z-Score'].std():.2f}\")\n"
      ],
      "metadata": {
        "colab": {
          "base_uri": "https://localhost:8080/",
          "height": 493
        },
        "id": "drgAsOFId3Mn",
        "outputId": "3b720c16-bf9b-4051-e108-afa73b353268"
      },
      "execution_count": 25,
      "outputs": [
        {
          "output_type": "stream",
          "name": "stdout",
          "text": [
            "       Value   Z-Score\n",
            "0  54.967142  0.487515\n",
            "1  48.617357 -0.160941\n",
            "2  56.476885  0.641693\n",
            "3  65.230299  1.535614\n",
            "4  47.658466 -0.258866\n"
          ]
        },
        {
          "output_type": "display_data",
          "data": {
            "text/plain": [
              "<Figure size 1200x600 with 2 Axes>"
            ],
            "image/png": "[encoded data removed]"
          },
          "metadata": {}
        },
        {
          "output_type": "stream",
          "name": "stdout",
          "text": [
            "\n",
            "Original Mean: 50.19, Original Std Dev: 9.79\n",
            "Z-score Normalized Mean: -0.00, Z-score Normalized Std Dev: 1.00\n"
          ]
        }
      ]
    },
    {
      "cell_type": "markdown",
      "source": [
        "###Q.19. Compare two datasets using their standard deviations."
      ],
      "metadata": {
        "id": "Xz06zmR-e9EY"
      }
    },
    {
      "cell_type": "code",
      "source": [
        "import numpy as np\n",
        "import pandas as pd\n",
        "\n",
        "data1 = np.array([10, 12, 14, 16, 18, 20])\n",
        "data2 = np.array([5, 15, 25, 35, 45, 55])\n",
        "\n",
        "std_dev1 = np.std(data1)\n",
        "std_dev2 = np.std(data2)\n",
        "\n",
        "df1 = pd.DataFrame(data1, columns=['Values'])\n",
        "df2 = pd.DataFrame(data2, columns=['Values'])\n",
        "\n",
        "std_dev1_pandas = df1['Values'].std()\n",
        "std_dev2_pandas = df2['Values'].std()\n",
        "\n",
        "print(\"Using NumPy:\")\n",
        "print(\"Standard Deviation of Dataset 1:\", std_dev1)\n",
        "print(\"Standard Deviation of Dataset 2:\", std_dev2)\n",
        "\n",
        "print(\"\\nUsing Pandas:\")\n",
        "print(\"Standard Deviation of Dataset 1:\", std_dev1_pandas)\n",
        "print(\"Standard Deviation of Dataset 2:\", std_dev2_pandas)\n",
        "\n",
        "if std_dev1 > std_dev2:\n",
        "    print(\"\\nDataset 1 has a higher variability than Dataset 2.\")\n",
        "elif std_dev1 < std_dev2:\n",
        "    print(\"\\nDataset 2 has a higher variability than Dataset 1.\")\n",
        "else:\n",
        "    print(\"\\nBoth datasets have the same variability.\")\n"
      ],
      "metadata": {
        "colab": {
          "base_uri": "https://localhost:8080/"
        },
        "id": "nUSH4gLWeR-K",
        "outputId": "70d4dd9d-610c-49d9-f64f-2dcdf0a13c78"
      },
      "execution_count": 26,
      "outputs": [
        {
          "output_type": "stream",
          "name": "stdout",
          "text": [
            "Using NumPy:\n",
            "Standard Deviation of Dataset 1: 3.415650255319866\n",
            "Standard Deviation of Dataset 2: 17.07825127659933\n",
            "\n",
            "Using Pandas:\n",
            "Standard Deviation of Dataset 1: 3.7416573867739413\n",
            "Standard Deviation of Dataset 2: 18.708286933869708\n",
            "\n",
            "Dataset 2 has a higher variability than Dataset 1.\n"
          ]
        }
      ]
    },
    {
      "cell_type": "markdown",
      "source": [
        "###Q.20. Write a Python program to visualize covariance using a heatmap."
      ],
      "metadata": {
        "id": "Tmg50yDmfNzn"
      }
    },
    {
      "cell_type": "code",
      "source": [
        "import pandas as pd\n",
        "import numpy as np\n",
        "import seaborn as sns\n",
        "import matplotlib.pyplot as plt\n",
        "\n",
        "data = {\n",
        "    'X': np.random.normal(5, 2, 100),\n",
        "    'Y': np.random.normal(10, 3, 100),\n",
        "    'Z': np.random.normal(15, 4, 100),\n",
        "}\n",
        "\n",
        "df = pd.DataFrame(data)\n",
        "\n",
        "cov_matrix = df.cov()\n",
        "\n",
        "plt.figure(figsize=(8, 6))\n",
        "sns.heatmap(cov_matrix, annot=True, fmt=\".2f\", cmap='coolwarm', center=0)\n",
        "plt.title('Covariance Matrix Heatmap')\n",
        "plt.show()\n",
        "\n"
      ],
      "metadata": {
        "colab": {
          "base_uri": "https://localhost:8080/",
          "height": 545
        },
        "id": "urjbWUHUfMkf",
        "outputId": "f460eb1c-3385-4b0e-a5f5-7c9a6b2d3066"
      },
      "execution_count": 27,
      "outputs": [
        {
          "output_type": "display_data",
          "data": {
            "text/plain": [
              "<Figure size 800x600 with 2 Axes>"
            ],
            "image/png": "[encoded data removed]"
          },
          "metadata": {}
        }
      ]
    },
    {
      "cell_type": "markdown",
      "source": [
        "###Q.21. Use seaborn to create a correlation matrix for a dataset."
      ],
      "metadata": {
        "id": "fkH8lV7GfdWZ"
      }
    },
    {
      "cell_type": "code",
      "source": [
        "import pandas as pd\n",
        "import numpy as np\n",
        "import seaborn as sns\n",
        "import matplotlib.pyplot as plt\n",
        "\n",
        "np.random.seed(42)\n",
        "data = {\n",
        "    'Feature1': np.random.normal(0, 1, 100),\n",
        "    'Feature2': np.random.normal(5, 2, 100),\n",
        "    'Feature3': np.random.normal(-2, 5, 100),\n",
        "    'Feature4': np.random.normal(10, 3, 100),\n",
        "}\n",
        "\n",
        "df = pd.DataFrame(data)\n",
        "\n",
        "corr_matrix = df.corr()\n",
        "\n",
        "plt.figure(figsize=(8, 6))\n",
        "sns.heatmap(corr_matrix, annot=True, cmap='coolwarm', center=0)\n",
        "plt.title('Correlation Matrix Heatmap')\n",
        "plt.show()\n"
      ],
      "metadata": {
        "colab": {
          "base_uri": "https://localhost:8080/",
          "height": 545
        },
        "id": "pe_eKM81fcRK",
        "outputId": "c77d12bc-2b4f-40a1-bdea-1a985ba75d91"
      },
      "execution_count": 28,
      "outputs": [
        {
          "output_type": "display_data",
          "data": {
            "text/plain": [
              "<Figure size 800x600 with 2 Axes>"
            ],
            "image/png": "[encoded data removed]"
          },
          "metadata": {}
        }
      ]
    },
    {
      "cell_type": "markdown",
      "source": [
        "###Q.22. Generate a dataset and implement both variance and standard deviation computations."
      ],
      "metadata": {
        "id": "qM-cOqcMfvir"
      }
    },
    {
      "cell_type": "code",
      "source": [
        "import numpy as np\n",
        "import pandas as pd\n",
        "\n",
        "np.random.seed(42)\n",
        "data = np.random.randint(1, 100, size=50)\n",
        "\n",
        "df = pd.DataFrame(data, columns=['Values'])\n",
        "\n",
        "variance = np.var(data, ddof=0)\n",
        "std_dev = np.std(data, ddof=0)\n",
        "\n",
        "variance_pandas = df['Values'].var(ddof=0)\n",
        "std_dev_pandas = df['Values'].std(ddof=0)\n",
        "\n",
        "print(\"Using NumPy:\")\n",
        "print(\"Dataset:\", data)\n",
        "print(\"Variance:\", variance)\n",
        "print(\"Standard Deviation:\", std_dev)\n",
        "\n",
        "print(\"\\nUsing Pandas:\")\n",
        "print(\"Dataset:\\n\", df)\n",
        "print(\"Variance:\", variance_pandas)\n",
        "print(\"Standard Deviation:\", std_dev_pandas)\n"
      ],
      "metadata": {
        "colab": {
          "base_uri": "https://localhost:8080/"
        },
        "id": "8ujtdqBOfrSW",
        "outputId": "28916dd0-18b5-4e21-a5eb-59aee0b3cbc5"
      },
      "execution_count": 29,
      "outputs": [
        {
          "output_type": "stream",
          "name": "stdout",
          "text": [
            "Using NumPy:\n",
            "Dataset: [52 93 15 72 61 21 83 87 75 75 88 24  3 22 53  2 88 30 38  2 64 60 21 33\n",
            " 76 58 22 89 49 91 59 42 92 60 80 15 62 62 47 62 51 55 64  3 51  7 21 73\n",
            " 39 18]\n",
            "Variance: 749.44\n",
            "Standard Deviation: 27.375901811629877\n",
            "\n",
            "Using Pandas:\n",
            "Dataset:\n",
            "     Values\n",
            "0       52\n",
            "1       93\n",
            "2       15\n",
            "3       72\n",
            "4       61\n",
            "5       21\n",
            "6       83\n",
            "7       87\n",
            "8       75\n",
            "9       75\n",
            "10      88\n",
            "11      24\n",
            "12       3\n",
            "13      22\n",
            "14      53\n",
            "15       2\n",
            "16      88\n",
            "17      30\n",
            "18      38\n",
            "19       2\n",
            "20      64\n",
            "21      60\n",
            "22      21\n",
            "23      33\n",
            "24      76\n",
            "25      58\n",
            "26      22\n",
            "27      89\n",
            "28      49\n",
            "29      91\n",
            "30      59\n",
            "31      42\n",
            "32      92\n",
            "33      60\n",
            "34      80\n",
            "35      15\n",
            "36      62\n",
            "37      62\n",
            "38      47\n",
            "39      62\n",
            "40      51\n",
            "41      55\n",
            "42      64\n",
            "43       3\n",
            "44      51\n",
            "45       7\n",
            "46      21\n",
            "47      73\n",
            "48      39\n",
            "49      18\n",
            "Variance: 749.44\n",
            "Standard Deviation: 27.375901811629877\n"
          ]
        }
      ]
    },
    {
      "cell_type": "markdown",
      "source": [
        "###Q.23. Visualize skewness and kurtosis using Python libraries like matplotlib or seaborn."
      ],
      "metadata": {
        "id": "FhqDUaqIgTto"
      }
    },
    {
      "cell_type": "code",
      "source": [
        "import numpy as np\n",
        "import pandas as pd\n",
        "import seaborn as sns\n",
        "import matplotlib.pyplot as plt\n",
        "from scipy.stats import skew, kurtosis\n",
        "\n",
        "np.random.seed(42)\n",
        "data_normal = np.random.normal(loc=0, scale=1, size=1000)\n",
        "data_skewed = np.random.exponential(scale=1, size=1000)\n",
        "data_kurtotic = np.random.laplace(loc=0, scale=1, size=1000)\n",
        "\n",
        "df = pd.DataFrame({\n",
        "    'Normal': data_normal,\n",
        "    'Skewed': data_skewed,\n",
        "    'Kurtotic': data_kurtotic\n",
        "})\n",
        "\n",
        "skewness = df.apply(skew)\n",
        "kurtosis_values = df.apply(kurtosis)\n",
        "\n",
        "plt.figure(figsize=(15, 5))\n",
        "\n",
        "for i, column in enumerate(df.columns):\n",
        "    plt.subplot(1, 3, i + 1)\n",
        "    sns.histplot(df[column], bins=30, kde=True, color='blue', stat='density')\n",
        "    plt.title(f'{column} Distribution\\nSkewness: {skewness[column]:.2f}, Kurtosis: {kurtosis_values[column]:.2f}')\n",
        "    plt.xlabel('Value')\n",
        "    plt.ylabel('Density')\n",
        "\n",
        "plt.tight_layout()\n",
        "plt.show()\n"
      ],
      "metadata": {
        "colab": {
          "base_uri": "https://localhost:8080/",
          "height": 229
        },
        "id": "TTtMtS2ZgNr_",
        "outputId": "b2b1b432-1276-4522-cf24-06aee61de8c0"
      },
      "execution_count": 30,
      "outputs": [
        {
          "output_type": "display_data",
          "data": {
            "text/plain": [
              "<Figure size 1500x500 with 3 Axes>"
            ],
            "image/png": "[encoded data removed]"
          },
          "metadata": {}
        }
      ]
    },
    {
      "cell_type": "markdown",
      "source": [
        "###Q.24. Implement the Pearson and Spearman correlation coefficients for a dataset."
      ],
      "metadata": {
        "id": "h4VKgmBKgrCg"
      }
    },
    {
      "cell_type": "code",
      "source": [
        "import pandas as pd\n",
        "import numpy as np\n",
        "\n",
        "np.random.seed(42)\n",
        "data = {\n",
        "    'Feature1': np.random.normal(0, 1, 100),\n",
        "    'Feature2': np.random.normal(5, 2, 100),\n",
        "    'Feature3': np.random.normal(-2, 5, 100),\n",
        "}\n",
        "\n",
        "df = pd.DataFrame(data)\n",
        "\n",
        "pearson_corr = df.corr(method='pearson')\n",
        "\n",
        "spearman_corr = df.corr(method='spearman')\n",
        "\n",
        "print(\"Pearson Correlation Coefficient:\\n\", pearson_corr)\n",
        "print(\"\\nSpearman Correlation Coefficient:\\n\", spearman_corr)\n"
      ],
      "metadata": {
        "colab": {
          "base_uri": "https://localhost:8080/"
        },
        "id": "IpyZei1Ggo8E",
        "outputId": "02c4ab34-1543-4d40-d1ff-4f2eea2ed343"
      },
      "execution_count": 31,
      "outputs": [
        {
          "output_type": "stream",
          "name": "stdout",
          "text": [
            "Pearson Correlation Coefficient:\n",
            "           Feature1  Feature2  Feature3\n",
            "Feature1  1.000000 -0.136422  0.190840\n",
            "Feature2 -0.136422  1.000000 -0.036632\n",
            "Feature3  0.190840 -0.036632  1.000000\n",
            "\n",
            "Spearman Correlation Coefficient:\n",
            "           Feature1  Feature2  Feature3\n",
            "Feature1  1.000000 -0.107963  0.176694\n",
            "Feature2 -0.107963  1.000000 -0.052505\n",
            "Feature3  0.176694 -0.052505  1.000000\n"
          ]
        }
      ]
    },
    {
      "cell_type": "code",
      "source": [],
      "metadata": {
        "id": "X-E8kkcWg5Sa"
      },
      "execution_count": null,
      "outputs": []
    }
  ]
}